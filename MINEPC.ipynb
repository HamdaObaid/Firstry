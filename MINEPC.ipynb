{
 "cells": [
  {
   "cell_type": "markdown",
   "id": "59d3fe5e-df45-4eb5-90bd-130e935dce9a",
   "metadata": {},
   "source": [
    "MY TITLE"
   ]
  },
  {
   "cell_type": "code",
   "execution_count": 13,
   "id": "f25ec147-e168-4be3-a6c7-b7dfaf64dab8",
   "metadata": {},
   "outputs": [
    {
     "data": {
      "text/plain": [
       "4"
      ]
     },
     "execution_count": 13,
     "metadata": {},
     "output_type": "execute_result"
    }
   ],
   "source": [
    "1+1*3"
   ]
  },
  {
   "cell_type": "markdown",
   "id": "6a3106e2-1e48-486c-8b2a-97b06b3a60ee",
   "metadata": {},
   "source": [
    "This is a try!"
   ]
  }
 ],
 "metadata": {
  "kernelspec": {
   "display_name": "Python",
   "language": "python",
   "name": "conda-env-python-py"
  },
  "language_info": {
   "codemirror_mode": {
    "name": "ipython",
    "version": 3
   },
   "file_extension": ".py",
   "mimetype": "text/x-python",
   "name": "python",
   "nbconvert_exporter": "python",
   "pygments_lexer": "ipython3",
   "version": "3.7.12"
  }
 },
 "nbformat": 4,
 "nbformat_minor": 5
}
